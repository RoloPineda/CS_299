{
 "cells": [
  {
   "cell_type": "code",
   "execution_count": 1,
   "metadata": {
    "collapsed": true
   },
   "outputs": [],
   "source": [
    "import json\n",
    "import wget"
   ]
  },
  {
   "cell_type": "code",
   "execution_count": 4,
   "outputs": [
    {
     "data": {
      "text/plain": "'/Users/rolandopineda/CS299/week7/lab-w7/sarcasm.json'"
     },
     "execution_count": 4,
     "metadata": {},
     "output_type": "execute_result"
    }
   ],
   "source": [
    "data_link = \"https://storage.googleapis.com/tensorflow-1-public/course3/sarcasm.json\"\n",
    "local_path = \"/Users/rolandopineda/CS299/week7/lab-w7\"\n",
    "\n",
    "wget.download(data_link, out=local_path)"
   ],
   "metadata": {
    "collapsed": false,
    "pycharm": {
     "name": "#%%\n"
    }
   }
  },
  {
   "cell_type": "code",
   "execution_count": 5,
   "outputs": [],
   "source": [
    "with open(\"sarcasm.json\",'r') as f:\n",
    "    datastore = json.load(f)\n",
    "\n",
    "sentences = []\n",
    "labels = []\n",
    "urls = []\n",
    "\n",
    "for item in datastore:\n",
    "    sentences.append(item['headline'])\n",
    "    labels.append(item['is_sarcastic'])"
   ],
   "metadata": {
    "collapsed": false,
    "pycharm": {
     "name": "#%%\n"
    }
   }
  },
  {
   "cell_type": "code",
   "execution_count": 9,
   "outputs": [],
   "source": [
    "training_size = 20000\n",
    "\n",
    "vocab_size = 10000\n",
    "\n",
    "max_length = 32\n",
    "\n",
    "embedding_dim = 16\n"
   ],
   "metadata": {
    "collapsed": false,
    "pycharm": {
     "name": "#%%\n"
    }
   }
  },
  {
   "cell_type": "code",
   "execution_count": 10,
   "outputs": [],
   "source": [
    "# Splitting data set\n",
    "\n",
    "training_sentences = sentences[0:training_size]\n",
    "testing_sentences = sentences[training_size:]\n",
    "\n",
    "# Split labels\n",
    "training_labels = labels[0:training_size]\n",
    "testing_labels = labels[training_size:]"
   ],
   "metadata": {
    "collapsed": false,
    "pycharm": {
     "name": "#%%\n"
    }
   }
  },
  {
   "cell_type": "code",
   "execution_count": 11,
   "outputs": [],
   "source": [
    "import numpy as np\n",
    "from tensorflow.keras.preprocessing.text import Tokenizer\n",
    "from tensorflow.keras.preprocessing.sequence import pad_sequences\n"
   ],
   "metadata": {
    "collapsed": false,
    "pycharm": {
     "name": "#%%\n"
    }
   }
  },
  {
   "cell_type": "code",
   "execution_count": 12,
   "outputs": [],
   "source": [
    "# Parameters for padding and OOV tokens\n",
    "\n",
    "trunc_type ='post'\n",
    "padding_type=\"post\"\n",
    "oov_tok='<OOV>'\n",
    "\n",
    "# Initializing tokenizer class\n",
    "tokenizer = Tokenizer(num_words=vocab_size, oov_token=oov_tok)\n",
    "\n",
    "# Generates the word index dictionary\n",
    "tokenizer.fit_on_texts(training_sentences)\n",
    "word_index = tokenizer.word_index\n",
    "\n",
    "# Generates and pad the training sequences\n",
    "training_sequences = tokenizer.texts_to_sequences(training_sentences)\n",
    "training_padded = pad_sequences(training_sequences,  maxlen=max_length, padding=padding_type, truncating=trunc_type)\n",
    "\n",
    "# Generate and pad the testing sequences\n",
    "testing_sequences = tokenizer.texts_to_sequences(testing_sentences)\n",
    "testing_padded = pad_sequences(testing_sequences, maxlen=max_length, padding=padding_type, truncating=trunc_type)\n",
    "\n",
    "# Convert the labels lists into np arrays\n",
    "training_labels = np.array(training_labels)\n",
    "testing_labels = np.array(testing_labels)"
   ],
   "metadata": {
    "collapsed": false,
    "pycharm": {
     "name": "#%%\n"
    }
   }
  },
  {
   "cell_type": "code",
   "execution_count": 13,
   "outputs": [
    {
     "name": "stdout",
     "output_type": "stream",
     "text": [
      "shape of sample array = (1, 3, 2)\n",
      "sample array: [[[10  2]\n",
      "  [ 1  3]\n",
      "  [ 1  1]]]\n",
      "Metal device set to: Apple M1\n",
      "output shape of gap1d_layer: (1, 2)\n",
      "output array of gap1d_layer: [[4 2]]\n"
     ]
    },
    {
     "name": "stderr",
     "output_type": "stream",
     "text": [
      "2022-04-21 13:50:46.916477: I tensorflow/core/common_runtime/pluggable_device/pluggable_device_factory.cc:305] Could not identify NUMA node of platform GPU ID 0, defaulting to 0. Your kernel may not have been built with NUMA support.\n",
      "2022-04-21 13:50:46.918816: I tensorflow/core/common_runtime/pluggable_device/pluggable_device_factory.cc:271] Created TensorFlow device (/job:localhost/replica:0/task:0/device:GPU:0 with 0 MB memory) -> physical PluggableDevice (device: 0, name: METAL, pci bus id: <undefined>)\n"
     ]
    }
   ],
   "source": [
    "import tensorflow as tf\n",
    "\n",
    "# Initialize a Global AveragePooling1D (GAP1D) layer\n",
    "gap1d_layer = tf.keras.layers.GlobalAveragePooling1D()\n",
    "\n",
    "# Sample array\n",
    "sample_array = np.array([[[10,2],[1,3],[1,1]]])\n",
    "\n",
    "# print shape and contents of sample array\n",
    "print(f'shape of sample array = {sample_array.shape}')\n",
    "print(f'sample array: {sample_array}')\n",
    "\n",
    "# {ass sample array to gap1d layer\n",
    "output = gap1d_layer(sample_array)\n",
    "\n",
    "# Print shape and contents of GAP1D output array\n",
    "print(f'output shape of gap1d_layer: {output.shape}')\n",
    "print(f'output array of gap1d_layer: {output.numpy()}')"
   ],
   "metadata": {
    "collapsed": false,
    "pycharm": {
     "name": "#%%\n"
    }
   }
  },
  {
   "cell_type": "code",
   "execution_count": 15,
   "outputs": [
    {
     "name": "stdout",
     "output_type": "stream",
     "text": [
      "Model: \"sequential\"\n",
      "_________________________________________________________________\n",
      " Layer (type)                Output Shape              Param #   \n",
      "=================================================================\n",
      " embedding_1 (Embedding)     (None, 32, 16)            160000    \n",
      "                                                                 \n",
      " global_average_pooling1d_2   (None, 16)               0         \n",
      " (GlobalAveragePooling1D)                                        \n",
      "                                                                 \n",
      " dense_2 (Dense)             (None, 24)                408       \n",
      "                                                                 \n",
      " dense_3 (Dense)             (None, 1)                 25        \n",
      "                                                                 \n",
      "=================================================================\n",
      "Total params: 160,433\n",
      "Trainable params: 160,433\n",
      "Non-trainable params: 0\n",
      "_________________________________________________________________\n"
     ]
    }
   ],
   "source": [
    "model = tf.keras.Sequential([\n",
    "    tf.keras.layers.Embedding(vocab_size, embedding_dim, input_length=max_length),\n",
    "    tf.keras.layers.GlobalAveragePooling1D(),\n",
    "    tf.keras.layers.Dense(24, activation='relu'),\n",
    "    tf.keras.layers.Dense(1, activation='sigmoid')\n",
    "])\n",
    "\n",
    "model.summary()"
   ],
   "metadata": {
    "collapsed": false,
    "pycharm": {
     "name": "#%%\n"
    }
   }
  },
  {
   "cell_type": "code",
   "execution_count": 16,
   "outputs": [],
   "source": [
    "model.compile(loss='binary_crossentropy', optimizer='adam', metrics=['accuracy'])"
   ],
   "metadata": {
    "collapsed": false,
    "pycharm": {
     "name": "#%%\n"
    }
   }
  },
  {
   "cell_type": "code",
   "execution_count": 17,
   "outputs": [
    {
     "name": "stdout",
     "output_type": "stream",
     "text": [
      "Epoch 1/20\n"
     ]
    },
    {
     "name": "stderr",
     "output_type": "stream",
     "text": [
      "2022-04-21 13:55:21.053775: W tensorflow/core/platform/profile_utils/cpu_utils.cc:128] Failed to get CPU frequency: 0 Hz\n",
      "2022-04-21 13:55:21.299931: I tensorflow/core/grappler/optimizers/custom_graph_optimizer_registry.cc:113] Plugin optimizer for device_type GPU is enabled.\n"
     ]
    },
    {
     "name": "stdout",
     "output_type": "stream",
     "text": [
      "623/625 [============================>.] - ETA: 0s - loss: 0.5885 - accuracy: 0.6768"
     ]
    },
    {
     "name": "stderr",
     "output_type": "stream",
     "text": [
      "2022-04-21 13:55:28.146221: I tensorflow/core/grappler/optimizers/custom_graph_optimizer_registry.cc:113] Plugin optimizer for device_type GPU is enabled.\n"
     ]
    },
    {
     "name": "stdout",
     "output_type": "stream",
     "text": [
      "625/625 [==============================] - 8s 11ms/step - loss: 0.5877 - accuracy: 0.6776 - val_loss: 0.4155 - val_accuracy: 0.8308\n",
      "Epoch 2/20\n",
      "625/625 [==============================] - 6s 9ms/step - loss: 0.3266 - accuracy: 0.8697 - val_loss: 0.3459 - val_accuracy: 0.8532\n",
      "Epoch 3/20\n",
      "625/625 [==============================] - 6s 10ms/step - loss: 0.2446 - accuracy: 0.9039 - val_loss: 0.3392 - val_accuracy: 0.8559\n",
      "Epoch 4/20\n",
      "625/625 [==============================] - 6s 9ms/step - loss: 0.1968 - accuracy: 0.9256 - val_loss: 0.3526 - val_accuracy: 0.8538\n",
      "Epoch 5/20\n",
      "625/625 [==============================] - 6s 9ms/step - loss: 0.1653 - accuracy: 0.9383 - val_loss: 0.3748 - val_accuracy: 0.8508\n",
      "Epoch 6/20\n",
      "625/625 [==============================] - 6s 9ms/step - loss: 0.1401 - accuracy: 0.9506 - val_loss: 0.4054 - val_accuracy: 0.8477\n",
      "Epoch 7/20\n",
      "625/625 [==============================] - 6s 9ms/step - loss: 0.1210 - accuracy: 0.9578 - val_loss: 0.4347 - val_accuracy: 0.8450\n",
      "Epoch 8/20\n",
      "625/625 [==============================] - 6s 9ms/step - loss: 0.1037 - accuracy: 0.9654 - val_loss: 0.4736 - val_accuracy: 0.8416\n",
      "Epoch 9/20\n",
      "625/625 [==============================] - 6s 9ms/step - loss: 0.0905 - accuracy: 0.9700 - val_loss: 0.5144 - val_accuracy: 0.8378\n",
      "Epoch 10/20\n",
      "625/625 [==============================] - 7s 11ms/step - loss: 0.0802 - accuracy: 0.9738 - val_loss: 0.5576 - val_accuracy: 0.8351\n",
      "Epoch 11/20\n",
      "625/625 [==============================] - 6s 9ms/step - loss: 0.0696 - accuracy: 0.9781 - val_loss: 0.6175 - val_accuracy: 0.8295\n",
      "Epoch 12/20\n",
      "625/625 [==============================] - 5s 9ms/step - loss: 0.0618 - accuracy: 0.9812 - val_loss: 0.6541 - val_accuracy: 0.8299\n",
      "Epoch 13/20\n",
      "625/625 [==============================] - 6s 9ms/step - loss: 0.0542 - accuracy: 0.9829 - val_loss: 0.7060 - val_accuracy: 0.8244\n",
      "Epoch 14/20\n",
      "625/625 [==============================] - 6s 10ms/step - loss: 0.0480 - accuracy: 0.9856 - val_loss: 0.7953 - val_accuracy: 0.8170\n",
      "Epoch 15/20\n",
      "625/625 [==============================] - 6s 10ms/step - loss: 0.0419 - accuracy: 0.9883 - val_loss: 0.8075 - val_accuracy: 0.8195\n",
      "Epoch 16/20\n",
      "625/625 [==============================] - 6s 9ms/step - loss: 0.0368 - accuracy: 0.9894 - val_loss: 0.8627 - val_accuracy: 0.8185\n",
      "Epoch 17/20\n",
      "625/625 [==============================] - 6s 9ms/step - loss: 0.0333 - accuracy: 0.9906 - val_loss: 0.9210 - val_accuracy: 0.8171\n",
      "Epoch 18/20\n",
      "625/625 [==============================] - 5s 9ms/step - loss: 0.0289 - accuracy: 0.9923 - val_loss: 0.9802 - val_accuracy: 0.8135\n",
      "Epoch 19/20\n",
      "625/625 [==============================] - 6s 9ms/step - loss: 0.0255 - accuracy: 0.9933 - val_loss: 1.0357 - val_accuracy: 0.8137\n",
      "Epoch 20/20\n",
      "625/625 [==============================] - 6s 9ms/step - loss: 0.0242 - accuracy: 0.9933 - val_loss: 1.0874 - val_accuracy: 0.8089\n"
     ]
    }
   ],
   "source": [
    "num_epochs = 20\n",
    "\n",
    "# Training the model\n",
    "history = model.fit(training_padded, training_labels, epochs=num_epochs, validation_data=(testing_padded, testing_labels))"
   ],
   "metadata": {
    "collapsed": false,
    "pycharm": {
     "name": "#%%\n"
    }
   }
  },
  {
   "cell_type": "code",
   "execution_count": 18,
   "outputs": [
    {
     "data": {
      "text/plain": "<Figure size 432x288 with 1 Axes>",
      "image/png": "[encoded data removed]"
     },
     "metadata": {
      "needs_background": "light"
     },
     "output_type": "display_data"
    },
    {
     "data": {
      "text/plain": "<Figure size 432x288 with 1 Axes>",
      "image/png": "[encoded data removed]"
     },
     "metadata": {
      "needs_background": "light"
     },
     "output_type": "display_data"
    }
   ],
   "source": [
    "import matplotlib.pyplot as plt\n",
    "\n",
    "# Plot utility\n",
    "def plot_graphs(history, string):\n",
    "  plt.plot(history.history[string])\n",
    "  plt.plot(history.history['val_'+string])\n",
    "  plt.xlabel(\"Epochs\")\n",
    "  plt.ylabel(string)\n",
    "  plt.legend([string, 'val_'+string])\n",
    "  plt.show()\n",
    "\n",
    "# Plot the accuracy and loss\n",
    "plot_graphs(history, \"accuracy\")\n",
    "plot_graphs(history, \"loss\")"
   ],
   "metadata": {
    "collapsed": false,
    "pycharm": {
     "name": "#%%\n"
    }
   }
  },
  {
   "cell_type": "code",
   "execution_count": 19,
   "outputs": [
    {
     "name": "stdout",
     "output_type": "stream",
     "text": [
      "(10000, 16)\n"
     ]
    }
   ],
   "source": [
    "# Get the index-word dictionary\n",
    "reverse_word_index = tokenizer.index_word\n",
    "\n",
    "# Get the embedding layer from the model (i.e. first layer)\n",
    "embedding_layer = model.layers[0]\n",
    "\n",
    "# Get the weights of the embedding layer\n",
    "embedding_weights = embedding_layer.get_weights()[0]\n",
    "\n",
    "# Print the shape. Expected is (vocab_size, embedding_dim)\n",
    "print(embedding_weights.shape)"
   ],
   "metadata": {
    "collapsed": false,
    "pycharm": {
     "name": "#%%\n"
    }
   }
  },
  {
   "cell_type": "code",
   "execution_count": 20,
   "outputs": [],
   "source": [
    "import io\n",
    "\n",
    "# Open writeable files\n",
    "out_v = io.open('vecs.tsv', 'w', encoding='utf-8')\n",
    "out_m = io.open('meta.tsv', 'w', encoding='utf-8')\n",
    "\n",
    "# Initialize the loop. Start counting at `1` because `0` is just for the padding\n",
    "for word_num in range(1, vocab_size):\n",
    "\n",
    "  # Get the word associated at the current index\n",
    "  word_name = reverse_word_index[word_num]\n",
    "\n",
    "  # Get the embedding weights associated with the current index\n",
    "  word_embedding = embedding_weights[word_num]\n",
    "\n",
    "  # Write the word name\n",
    "  out_m.write(word_name + \"\\n\")\n",
    "\n",
    "  # Write the word embedding\n",
    "  out_v.write('\\t'.join([str(x) for x in word_embedding]) + \"\\n\")\n",
    "\n",
    "# Close the files\n",
    "out_v.close()\n",
    "out_m.close()"
   ],
   "metadata": {
    "collapsed": false,
    "pycharm": {
     "name": "#%%\n"
    }
   }
  },
  {
   "cell_type": "markdown",
   "source": [
    "Visualize vector at https://projector.tensorflow.org/"
   ],
   "metadata": {
    "collapsed": false,
    "pycharm": {
     "name": "#%% md\n"
    }
   }
  },
  {
   "cell_type": "code",
   "execution_count": null,
   "outputs": [],
   "source": [],
   "metadata": {
    "collapsed": false,
    "pycharm": {
     "name": "#%%\n"
    }
   }
  }
 ],
 "metadata": {
  "kernelspec": {
   "display_name": "Python 3",
   "language": "python",
   "name": "python3"
  },
  "language_info": {
   "codemirror_mode": {
    "name": "ipython",
    "version": 2
   },
   "file_extension": ".py",
   "mimetype": "text/x-python",
   "name": "python",
   "nbconvert_exporter": "python",
   "pygments_lexer": "ipython2",
   "version": "2.7.6"
  }
 },
 "nbformat": 4,
 "nbformat_minor": 0
}