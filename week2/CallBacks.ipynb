{
 "cells": [
  {
   "cell_type": "code",
   "execution_count": 2,
   "metadata": {
    "collapsed": true
   },
   "outputs": [],
   "source": [
    "import tensorflow as tf\n",
    "import numpy as np\n",
    "import matplotlib.pyplot as pl"
   ]
  },
  {
   "cell_type": "code",
   "execution_count": 3,
   "outputs": [],
   "source": [
    "class myCallBack(tf.keras.callbacks.Callback):\n",
    "    def on_epoch_end(self, epoch, logs={}):\n",
    "        if (logs.get('loss') < 0.2):\n",
    "            print(\"\\n Loss is now cancelling training!\")\n",
    "            self.model.stop_training = True"
   ],
   "metadata": {
    "collapsed": false,
    "pycharm": {
     "name": "#%%\n"
    }
   }
  },
  {
   "cell_type": "code",
   "execution_count": 4,
   "outputs": [
    {
     "name": "stdout",
     "output_type": "stream",
     "text": [
      "Downloading data from https://storage.googleapis.com/tensorflow/tf-keras-datasets/train-labels-idx1-ubyte.gz\n",
      "32768/29515 [=================================] - 0s 2us/step\n",
      "40960/29515 [=========================================] - 0s 2us/step\n",
      "Downloading data from https://storage.googleapis.com/tensorflow/tf-keras-datasets/train-images-idx3-ubyte.gz\n",
      "26427392/26421880 [==============================] - 2s 0us/step\n",
      "26435584/26421880 [==============================] - 2s 0us/step\n",
      "Downloading data from https://storage.googleapis.com/tensorflow/tf-keras-datasets/t10k-labels-idx1-ubyte.gz\n",
      "16384/5148 [===============================================================================================] - 0s 0us/step\n",
      "Downloading data from https://storage.googleapis.com/tensorflow/tf-keras-datasets/t10k-images-idx3-ubyte.gz\n",
      "4423680/4422102 [==============================] - 0s 0us/step\n",
      "4431872/4422102 [==============================] - 0s 0us/step\n"
     ]
    },
    {
     "name": "stderr",
     "output_type": "stream",
     "text": [
      "2022-02-04 12:29:55.429087: I tensorflow/core/platform/cpu_feature_guard.cc:151] This TensorFlow binary is optimized with oneAPI Deep Neural Network Library (oneDNN) to use the following CPU instructions in performance-critical operations:  AVX2 FMA\n",
      "To enable them in other operations, rebuild TensorFlow with the appropriate compiler flags.\n"
     ]
    },
    {
     "name": "stdout",
     "output_type": "stream",
     "text": [
      "Epoch 1/25\n",
      "1875/1875 [==============================] - 11s 6ms/step - loss: 0.4707 - accuracy: 0.8319\n",
      "Epoch 2/25\n",
      "1875/1875 [==============================] - 10s 5ms/step - loss: 0.3591 - accuracy: 0.8679\n",
      "Epoch 3/25\n",
      "1875/1875 [==============================] - 10s 5ms/step - loss: 0.3211 - accuracy: 0.8815\n",
      "Epoch 4/25\n",
      "1875/1875 [==============================] - 11s 6ms/step - loss: 0.2944 - accuracy: 0.8905\n",
      "Epoch 5/25\n",
      "1875/1875 [==============================] - 9s 5ms/step - loss: 0.2790 - accuracy: 0.8959\n",
      "Epoch 6/25\n",
      "1875/1875 [==============================] - 10s 5ms/step - loss: 0.2629 - accuracy: 0.9028\n",
      "Epoch 7/25\n",
      "1875/1875 [==============================] - 12s 6ms/step - loss: 0.2504 - accuracy: 0.9068\n",
      "Epoch 8/25\n",
      "1875/1875 [==============================] - 11s 6ms/step - loss: 0.2383 - accuracy: 0.9112\n",
      "Epoch 9/25\n",
      "1875/1875 [==============================] - 13s 7ms/step - loss: 0.2291 - accuracy: 0.9132\n",
      "Epoch 10/25\n",
      "1875/1875 [==============================] - 11s 6ms/step - loss: 0.2201 - accuracy: 0.9173\n",
      "Epoch 11/25\n",
      "1875/1875 [==============================] - 8s 4ms/step - loss: 0.2110 - accuracy: 0.9210\n",
      "Epoch 12/25\n",
      "1875/1875 [==============================] - 7s 4ms/step - loss: 0.2029 - accuracy: 0.9233\n",
      "Epoch 13/25\n",
      "1875/1875 [==============================] - ETA: 0s - loss: 0.1970 - accuracy: 0.9257\n",
      " Loss is now cancelling training!\n",
      "1875/1875 [==============================] - 7s 4ms/step - loss: 0.1970 - accuracy: 0.9257\n",
      "Now evaluating...\n",
      "\n",
      "\n",
      "\n",
      "313/313 [==============================] - 1s 2ms/step - loss: 0.3472 - accuracy: 0.8853\n"
     ]
    },
    {
     "data": {
      "text/plain": "[0.3472157120704651, 0.8852999806404114]"
     },
     "execution_count": 4,
     "metadata": {},
     "output_type": "execute_result"
    }
   ],
   "source": [
    "callbacks = myCallBack()\n",
    "fashion_mnist = tf.keras.datasets.fashion_mnist\n",
    "(training_images, training_labels), (test_images, test_labels) = fashion_mnist.load_data()\n",
    "training_images = training_images / 255.0\n",
    "test_images = test_images / 255.0\n",
    "model = tf.keras.models.Sequential([tf.keras.layers.Flatten(),\n",
    "                                   tf.keras.layers.Dense(1024, activation=tf.nn.relu),\n",
    "                                    tf.keras.layers.Dense(10, activation=tf.nn.softmax)\n",
    "                                    ])\n",
    "model.compile(optimizer = tf.optimizers.Adam(),\n",
    "              loss = 'sparse_categorical_crossentropy',\n",
    "              metrics=['accuracy'])\n",
    "# training model\n",
    "model.fit(training_images, training_labels, epochs=25, callbacks=[callbacks])\n",
    "print(\"Now evaluating...\\n\\n\\n\")\n",
    "# Evaluating model on unseen data\n",
    "model.evaluate(test_images, test_labels)"
   ],
   "metadata": {
    "collapsed": false,
    "pycharm": {
     "name": "#%%\n"
    }
   }
  },
  {
   "cell_type": "code",
   "execution_count": 17,
   "outputs": [],
   "source": [],
   "metadata": {
    "collapsed": false,
    "pycharm": {
     "name": "#%%\n"
    }
   }
  }
 ],
 "metadata": {
  "kernelspec": {
   "display_name": "Python 3",
   "language": "python",
   "name": "python3"
  },
  "language_info": {
   "codemirror_mode": {
    "name": "ipython",
    "version": 2
   },
   "file_extension": ".py",
   "mimetype": "text/x-python",
   "name": "python",
   "nbconvert_exporter": "python",
   "pygments_lexer": "ipython2",
   "version": "2.7.6"
  }
 },
 "nbformat": 4,
 "nbformat_minor": 0
}