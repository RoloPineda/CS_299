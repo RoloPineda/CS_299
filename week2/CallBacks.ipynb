{
 "cells": [
  {
   "cell_type": "code",
   "execution_count": 15,
   "metadata": {
    "collapsed": true
   },
   "outputs": [],
   "source": [
    "import tensorflow as tf\n",
    "import numpy as np\n",
    "import matplotlib.pyplot as pl"
   ]
  },
  {
   "cell_type": "code",
   "execution_count": 18,
   "outputs": [],
   "source": [
    "class myCallBack(tf.keras.callbacks.Callback):\n",
    "    def on_epoch_end(self, epoch, logs={}):\n",
    "        if (logs.get('loss') < 0.2):\n",
    "            print(\"\\n Loss is now cancelling training!\")\n",
    "            self.model.stop_training = True"
   ],
   "metadata": {
    "collapsed": false,
    "pycharm": {
     "name": "#%%\n"
    }
   }
  },
  {
   "cell_type": "code",
   "execution_count": 19,
   "outputs": [
    {
     "name": "stdout",
     "output_type": "stream",
     "text": [
      "Epoch 1/25\n",
      "1875/1875 [==============================] - 6s 3ms/step - loss: 0.4736 - accuracy: 0.8289\n",
      "Epoch 2/25\n",
      "1875/1875 [==============================] - 6s 3ms/step - loss: 0.3573 - accuracy: 0.8679\n",
      "Epoch 3/25\n",
      "1875/1875 [==============================] - 7s 4ms/step - loss: 0.3201 - accuracy: 0.8815\n",
      "Epoch 4/25\n",
      "1875/1875 [==============================] - 6s 3ms/step - loss: 0.2967 - accuracy: 0.8895\n",
      "Epoch 5/25\n",
      "1875/1875 [==============================] - 7s 4ms/step - loss: 0.2788 - accuracy: 0.8952\n",
      "Epoch 6/25\n",
      "1875/1875 [==============================] - 6s 3ms/step - loss: 0.2660 - accuracy: 0.8995\n",
      "Epoch 7/25\n",
      "1875/1875 [==============================] - 7s 4ms/step - loss: 0.2492 - accuracy: 0.9070\n",
      "Epoch 8/25\n",
      "1875/1875 [==============================] - 7s 4ms/step - loss: 0.2394 - accuracy: 0.9093\n",
      "Epoch 9/25\n",
      "1875/1875 [==============================] - 8s 4ms/step - loss: 0.2325 - accuracy: 0.9126\n",
      "Epoch 10/25\n",
      "1875/1875 [==============================] - 9s 5ms/step - loss: 0.2233 - accuracy: 0.9163\n",
      "Epoch 11/25\n",
      "1875/1875 [==============================] - 8s 4ms/step - loss: 0.2116 - accuracy: 0.9213\n",
      "Epoch 12/25\n",
      "1875/1875 [==============================] - 8s 4ms/step - loss: 0.2049 - accuracy: 0.9226\n",
      "Epoch 13/25\n",
      "1872/1875 [============================>.] - ETA: 0s - loss: 0.1970 - accuracy: 0.9256Loss is now cancelling training!\n",
      "1875/1875 [==============================] - 7s 3ms/step - loss: 0.1971 - accuracy: 0.9256\n",
      "Now evaluating...\n",
      "\n",
      "\n",
      "\n",
      "313/313 [==============================] - 0s 1ms/step - loss: 0.3571 - accuracy: 0.8758\n"
     ]
    },
    {
     "data": {
      "text/plain": "[0.35707980394363403, 0.8758000135421753]"
     },
     "execution_count": 19,
     "metadata": {},
     "output_type": "execute_result"
    }
   ],
   "source": [
    "callbacks = myCallBack()\n",
    "fashion_mnist = tf.keras.datasets.fashion_mnist\n",
    "(training_images, training_labels), (test_images, test_labels) = fashion_mnist.load_data()\n",
    "training_images = training_images / 255.0\n",
    "test_images = test_images / 255.0\n",
    "model = tf.keras.models.Sequential([tf.keras.layers.Flatten(),\n",
    "                                   tf.keras.layers.Dense(1024, activation=tf.nn.relu),\n",
    "                                    tf.keras.layers.Dense(10, activation=tf.nn.softmax)\n",
    "                                    ])\n",
    "model.compile(optimizer = tf.optimizers.Adam(),\n",
    "              loss = 'sparse_categorical_crossentropy',\n",
    "              metrics=['accuracy'])\n",
    "# training model\n",
    "model.fit(training_images, training_labels, epochs=25, callbacks=[callbacks])\n",
    "print(\"Now evaluating...\\n\\n\\n\")\n",
    "# Evaluating model on unseen data\n",
    "model.evaluate(test_images, test_labels)"
   ],
   "metadata": {
    "collapsed": false,
    "pycharm": {
     "name": "#%%\n"
    }
   }
  },
  {
   "cell_type": "code",
   "execution_count": 17,
   "outputs": [],
   "source": [],
   "metadata": {
    "collapsed": false,
    "pycharm": {
     "name": "#%%\n"
    }
   }
  }
 ],
 "metadata": {
  "kernelspec": {
   "display_name": "Python 3",
   "language": "python",
   "name": "python3"
  },
  "language_info": {
   "codemirror_mode": {
    "name": "ipython",
    "version": 2
   },
   "file_extension": ".py",
   "mimetype": "text/x-python",
   "name": "python",
   "nbconvert_exporter": "python",
   "pygments_lexer": "ipython2",
   "version": "2.7.6"
  }
 },
 "nbformat": 4,
 "nbformat_minor": 0
}